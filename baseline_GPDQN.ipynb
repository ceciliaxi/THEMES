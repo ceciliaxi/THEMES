{
 "cells": [
  {
   "cell_type": "code",
   "execution_count": 1,
   "id": "ccf4fca6",
   "metadata": {
    "scrolled": true
   },
   "outputs": [],
   "source": [
    "import numpy as np\n",
    "import pandas as pd\n",
    "import copy\n",
    "import random\n",
    "import itertools\n",
    "import json\n",
    "import pickle\n",
    "\n",
    "import torch\n",
    "import seaborn as sn\n",
    "import itertools\n",
    "from sklearn.model_selection import train_test_split\n",
    "\n",
    "import os\n",
    "os.environ[\"CUDA_VISIBLE_DEVICES\"] = \"-1\" "
   ]
  },
  {
   "cell_type": "code",
   "execution_count": 2,
   "id": "a133b669-2df3-4f69-a32d-ab178c9064d2",
   "metadata": {},
   "outputs": [],
   "source": [
    "from GP.gp import *\n",
    "from GP.dqn import *"
   ]
  },
  {
   "cell_type": "code",
   "execution_count": 3,
   "id": "3e1b2c2f-1587-4c4c-8ebc-30583aa7e187",
   "metadata": {},
   "outputs": [],
   "source": [
    "# Dataset info\n",
    "env = 'CCHS'\n",
    "id_feat = 'VisitIdentifier'\n",
    "sel_feats = ['SystolicBP', 'MAP', 'RespiratoryRate', 'PulseOx', 'HeartRate', 'Temperature', \n",
    "             'WBC', 'BiliRubin', 'BUN', 'Lactate', 'Creatinine', 'Platelet', 'Bands', 'FIO2']\n",
    "\n",
    "max_sel_feats = ['max_' + i for i in sel_feats]\n",
    "min_sel_feats = ['min_' + i for i in sel_feats]\n",
    "all_feats = sel_feats + max_sel_feats + min_sel_feats"
   ]
  },
  {
   "cell_type": "code",
   "execution_count": null,
   "id": "6fe1682e-fc11-4624-a98c-e82e14f1a582",
   "metadata": {},
   "outputs": [],
   "source": []
  },
  {
   "cell_type": "code",
   "execution_count": 4,
   "id": "307b5555-cf56-4607-a5fc-eb3614c30008",
   "metadata": {},
   "outputs": [],
   "source": [
    "# Load the data \n",
    "df = pd.read_csv('../baseline/example/cchs_sample_data.csv')\n",
    "info = pd.read_csv('../baseline/example/cchs_sample_visInfo.csv')"
   ]
  },
  {
   "cell_type": "code",
   "execution_count": 5,
   "id": "3341dbd4-4f6f-453d-8eb2-99fd893ec863",
   "metadata": {},
   "outputs": [],
   "source": [
    "# Get trajectory length\n",
    "vid_list = sorted(np.unique(df.VisitIdentifier))\n",
    "df_len = [len(df.loc[df.VisitIdentifier == vid]) for vid in vid_list]\n",
    "\n",
    "# Get the final outcome as reward\n",
    "rewards_list = [0] * len(vid_list)\n",
    "for idx in range(len(vid_list)):\n",
    "    tmp_lab = info.loc[info['VisitID'] == vid_list[idx]]['DeceasedFlag'].values[0]\n",
    "    rewards_list[idx] = [np.nan]*(df_len[idx] - 1) + [tmp_lab]\n",
    "all_rewards = list(itertools.chain.from_iterable(rewards_list))\n",
    "\n",
    "df['reward'] = all_rewards\n",
    "df['Action'] = df['Action'].apply(np.int64)"
   ]
  },
  {
   "cell_type": "code",
   "execution_count": 6,
   "id": "345f170a-35d8-4c9d-8257-638a0acd8e28",
   "metadata": {},
   "outputs": [
    {
     "name": "stdout",
     "output_type": "stream",
     "text": [
      "Prepare phi\n",
      "Episode_index\n",
      "Error value for length_scale: 0 and sigma:  0 is equal to:  9.092858529366566\n",
      "The cross validation error matrix is as follows: \n",
      "[[9.09285853]]\n"
     ]
    }
   ],
   "source": [
    "# Infer rewards by GP\n",
    "GP_reward_path = ''.join(['example/', env, '_GP_rewards.npy'])\n",
    "distributed_rewards = gp_rewards(df, id_feat, sel_feats, GP_reward_path, learn_gp=True)"
   ]
  },
  {
   "cell_type": "code",
   "execution_count": 7,
   "id": "fce198a4",
   "metadata": {},
   "outputs": [],
   "source": [
    "# Assign rewards to each timestamp\n",
    "all_seq_len = [0] + list(np.cumsum([len(i)-1 for i in rewards_list]))\n",
    "GP_rewards_list = copy.deepcopy(rewards_list)\n",
    "\n",
    "for idx in range(len(all_seq_len)-1): \n",
    "    GP_rewards_list[idx][:-1] = [distributed_rewards[i][0] for i in range(all_seq_len[idx], all_seq_len[idx+1])]\n",
    "GP_rewards = list(itertools.chain.from_iterable(GP_rewards_list))\n",
    "df['GP_reward'] = GP_rewards\n",
    "\n",
    "# Get the late rewards\n",
    "terminals_list = [[0]*(len(i)-1) + [1] for i in rewards_list]\n",
    "terminals = list(itertools.chain.from_iterable(terminals_list))\n",
    "df['terminals'] = terminals\n",
    "\n",
    "# Get the list of dataframes\n",
    "df_list = []\n",
    "vid_list = sorted(np.unique(df.VisitIdentifier))\n",
    "for vid in vid_list: \n",
    "    df_list.append(df.loc[df.VisitIdentifier == vid])"
   ]
  },
  {
   "cell_type": "code",
   "execution_count": 8,
   "id": "6e0d56d1-fe68-4f2c-a92c-f15791c2afd3",
   "metadata": {},
   "outputs": [
    {
     "name": "stdout",
     "output_type": "stream",
     "text": [
      "repeat idx:  0\n"
     ]
    },
    {
     "name": "stderr",
     "output_type": "stream",
     "text": [
      "C:\\Users\\XiYang\\miniforge3\\envs\\themes\\lib\\site-packages\\stable_baselines3\\common\\vec_env\\patch_gym.py:49: UserWarning: You provided an OpenAI Gym environment. We strongly recommend transitioning to Gymnasium environments. Stable-Baselines3 is automatically wrapping your environments in a compatibility layer, which could potentially cause issues.\n",
      "  warnings.warn(\n"
     ]
    },
    {
     "name": "stdout",
     "output_type": "stream",
     "text": [
      "Using cpu device\n",
      "Performance Measurements:\n",
      "Confusion matrix: \n",
      " [[ 18 401]\n",
      " [  2 176]]\n",
      "Accuracy:  0.3249581239530988\n",
      "Recall:  0.9887640449438202\n",
      "Precision:  0.3050259965337955\n",
      "F-score:  0.46622516556291393\n",
      "AUC:  0.5657665388431525\n",
      "APR:  0.5534130798460787\n",
      "Jaccard Score:  0.30397236614853196\n"
     ]
    }
   ],
   "source": [
    "seed_rp_results = []\n",
    "\n",
    "for rp_idx in range(1): \n",
    "    # for rp_idx in range(repeat_time): \n",
    "    print('repeat idx: ', rp_idx)\n",
    "\n",
    "    # ------------------------------------------------------------------------------------\n",
    "    # Get the training and testing index\n",
    "    tr_idx, te_idx = train_test_split(np.arange(len(df_list)), test_size=0.2, random_state=rp_idx)\n",
    "    \n",
    "    # Slice the training & testing data\n",
    "    tr_df = [df_list[i] for i in tr_idx]\n",
    "    te_df = [df_list[i] for i in te_idx]\n",
    "    \n",
    "    tr_observations = np.array(pd.concat([tr_df[i][all_feats] for i in range(len(tr_df))]))\n",
    "    tr_actions = np.array(pd.concat([tr_df[i]['Action'] for i in range(len(tr_df))]))\n",
    "    tr_rewards = np.array(pd.concat([tr_df[i]['GP_reward'] for i in range(len(tr_df))]))\n",
    "    tr_terminals = np.array(pd.concat([tr_df[i]['terminals'] for i in range(len(tr_df))]))\n",
    "\n",
    "    te_observations = np.array(pd.concat([te_df[i][all_feats] for i in range(len(te_df))]))\n",
    "    te_actions = np.array(pd.concat([te_df[i]['Action'] for i in range(len(te_df))]))\n",
    "    te_rewards = np.array(pd.concat([te_df[i]['GP_reward'] for i in range(len(te_df))]))\n",
    "    te_terminals = np.array(pd.concat([te_df[i]['terminals'] for i in range(len(te_df))]))\n",
    "\n",
    "    # ------------------------------------------------------------------------------------\n",
    "    # Training & testing the DQN model\n",
    "    tr_data = tr_observations, tr_actions, tr_rewards, tr_terminals\n",
    "    te_data = te_observations, te_actions, te_rewards, te_terminals\n",
    "    \n",
    "    model = train_offline_dqn(tr_data, env=env, total_timesteps=100)\n",
    "    seed_rp_results.append(test_offline_dqn(model, te_data, env=env, verbo=True))"
   ]
  },
  {
   "cell_type": "code",
   "execution_count": null,
   "id": "54f46fa9",
   "metadata": {},
   "outputs": [],
   "source": []
  },
  {
   "cell_type": "code",
   "execution_count": null,
   "id": "0b98b738",
   "metadata": {},
   "outputs": [],
   "source": []
  },
  {
   "cell_type": "code",
   "execution_count": null,
   "id": "f6300e07",
   "metadata": {},
   "outputs": [],
   "source": []
  }
 ],
 "metadata": {
  "kernelspec": {
   "display_name": "Python 3 (ipykernel)",
   "language": "python",
   "name": "python3"
  },
  "language_info": {
   "codemirror_mode": {
    "name": "ipython",
    "version": 3
   },
   "file_extension": ".py",
   "mimetype": "text/x-python",
   "name": "python",
   "nbconvert_exporter": "python",
   "pygments_lexer": "ipython3",
   "version": "3.10.16"
  }
 },
 "nbformat": 4,
 "nbformat_minor": 5
}
